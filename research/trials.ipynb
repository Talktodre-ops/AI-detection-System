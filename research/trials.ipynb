version https://git-lfs.github.com/spec/v1
oid sha256:dce8f7216cf6c1d83ac7e3e14125a86e2490d82ae022e8f62fa4a2e96362b1d1
size 18228
