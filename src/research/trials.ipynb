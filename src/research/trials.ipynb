{
 "cells": [
  {
   "cell_type": "code",
   "execution_count": 1,
   "metadata": {},
   "outputs": [
    {
     "name": "stdout",
     "output_type": "stream",
     "text": [
      "a\n"
     ]
    }
   ],
   "source": [
    "print('a')"
   ]
  },
  {
   "cell_type": "code",
   "execution_count": 5,
   "metadata": {},
   "outputs": [],
   "source": [
    "raw_path = r\"C:\\Users\\VICTUS\\Documents\\GITHUB\\AI-detection-System\\src\\data\\datasets\\AI_Human.csv\"\n",
    "\n"
   ]
  },
  {
   "cell_type": "code",
   "execution_count": 3,
   "metadata": {},
   "outputs": [],
   "source": [
    "import pandas as pd"
   ]
  },
  {
   "cell_type": "code",
   "execution_count": 6,
   "metadata": {},
   "outputs": [],
   "source": [
    "df = pd.read_csv(raw_path)"
   ]
  },
  {
   "cell_type": "code",
   "execution_count": 6,
   "metadata": {},
   "outputs": [
    {
     "data": {
      "text/plain": [
       "<bound method NDFrame.head of                                                      text  generated\n",
       "0       Cars. Cars have been around since they became ...        0.0\n",
       "1       Transportation is a large necessity in most co...        0.0\n",
       "2       \"America's love affair with it's vehicles seem...        0.0\n",
       "3       How often do you ride in a car? Do you drive a...        0.0\n",
       "4       Cars are a wonderful thing. They are perhaps o...        0.0\n",
       "...                                                   ...        ...\n",
       "487230  Tie Face on Mars is really just a big misunder...        0.0\n",
       "487231  The whole purpose of democracy is to create a ...        0.0\n",
       "487232  I firmly believe that governments worldwide sh...        1.0\n",
       "487233  I DFN't agree with this decision because a LFT...        0.0\n",
       "487234  Richard Non, Jimmy Carter, and Bob Dole and ot...        0.0\n",
       "\n",
       "[487235 rows x 2 columns]>"
      ]
     },
     "execution_count": 6,
     "metadata": {},
     "output_type": "execute_result"
    }
   ],
   "source": [
    "df.head"
   ]
  },
  {
   "cell_type": "code",
   "execution_count": 7,
   "metadata": {},
   "outputs": [],
   "source": [
    "missing_column = df.isnull().sum()"
   ]
  },
  {
   "cell_type": "code",
   "execution_count": 8,
   "metadata": {},
   "outputs": [
    {
     "data": {
      "text/plain": [
       "text         0\n",
       "generated    0\n",
       "dtype: int64"
      ]
     },
     "execution_count": 8,
     "metadata": {},
     "output_type": "execute_result"
    }
   ],
   "source": [
    "missing_column"
   ]
  },
  {
   "cell_type": "code",
   "execution_count": 9,
   "metadata": {},
   "outputs": [
    {
     "name": "stdout",
     "output_type": "stream",
     "text": [
      "<class 'pandas.core.frame.DataFrame'>\n",
      "RangeIndex: 487235 entries, 0 to 487234\n",
      "Data columns (total 2 columns):\n",
      " #   Column     Non-Null Count   Dtype  \n",
      "---  ------     --------------   -----  \n",
      " 0   text       487235 non-null  object \n",
      " 1   generated  487235 non-null  float64\n",
      "dtypes: float64(1), object(1)\n",
      "memory usage: 7.4+ MB\n"
     ]
    }
   ],
   "source": [
    "df.info()"
   ]
  },
  {
   "cell_type": "code",
   "execution_count": 10,
   "metadata": {},
   "outputs": [
    {
     "name": "stdout",
     "output_type": "stream",
     "text": [
      "<class 'pandas.core.frame.DataFrame'>\n",
      "RangeIndex: 487235 entries, 0 to 487234\n",
      "Data columns (total 2 columns):\n",
      " #   Column     Non-Null Count   Dtype  \n",
      "---  ------     --------------   -----  \n",
      " 0   text       487235 non-null  object \n",
      " 1   generated  487235 non-null  float64\n",
      "dtypes: float64(1), object(1)\n",
      "memory usage: 7.4+ MB\n",
      "None\n",
      "generated\n",
      "0.0    305797\n",
      "1.0    181438\n",
      "Name: count, dtype: int64\n"
     ]
    }
   ],
   "source": [
    "print(df.info())  # Check for missing values\n",
    "print(df['generated'].value_counts())  # Check AI vs. human balance"
   ]
  },
  {
   "cell_type": "code",
   "execution_count": 11,
   "metadata": {},
   "outputs": [],
   "source": [
    "data_path = r\"C:\\Users\\VICTUS\\Documents\\GITHUB\\AI-detection-System\\src\\data\\datasets\\cleaned_AI_Human.csv\""
   ]
  },
  {
   "cell_type": "code",
   "execution_count": 12,
   "metadata": {},
   "outputs": [
    {
     "data": {
      "text/html": [
       "<div>\n",
       "<style scoped>\n",
       "    .dataframe tbody tr th:only-of-type {\n",
       "        vertical-align: middle;\n",
       "    }\n",
       "\n",
       "    .dataframe tbody tr th {\n",
       "        vertical-align: top;\n",
       "    }\n",
       "\n",
       "    .dataframe thead th {\n",
       "        text-align: right;\n",
       "    }\n",
       "</style>\n",
       "<table border=\"1\" class=\"dataframe\">\n",
       "  <thead>\n",
       "    <tr style=\"text-align: right;\">\n",
       "      <th></th>\n",
       "      <th>label</th>\n",
       "      <th>cleaned_text</th>\n",
       "    </tr>\n",
       "  </thead>\n",
       "  <tbody>\n",
       "    <tr>\n",
       "      <th>0</th>\n",
       "      <td>0.0</td>\n",
       "      <td>cars cars have been around since they became f...</td>\n",
       "    </tr>\n",
       "    <tr>\n",
       "      <th>1</th>\n",
       "      <td>0.0</td>\n",
       "      <td>transportation is a large necessity in most co...</td>\n",
       "    </tr>\n",
       "    <tr>\n",
       "      <th>2</th>\n",
       "      <td>0.0</td>\n",
       "      <td>americas love affair with its vehicles seems t...</td>\n",
       "    </tr>\n",
       "    <tr>\n",
       "      <th>3</th>\n",
       "      <td>0.0</td>\n",
       "      <td>how often do you ride in a car do you drive a ...</td>\n",
       "    </tr>\n",
       "    <tr>\n",
       "      <th>4</th>\n",
       "      <td>0.0</td>\n",
       "      <td>cars are a wonderful thing they are perhaps on...</td>\n",
       "    </tr>\n",
       "    <tr>\n",
       "      <th>...</th>\n",
       "      <td>...</td>\n",
       "      <td>...</td>\n",
       "    </tr>\n",
       "    <tr>\n",
       "      <th>487230</th>\n",
       "      <td>0.0</td>\n",
       "      <td>tie face on mars is really just a big misunder...</td>\n",
       "    </tr>\n",
       "    <tr>\n",
       "      <th>487231</th>\n",
       "      <td>0.0</td>\n",
       "      <td>the whole purpose of democracy is to create a ...</td>\n",
       "    </tr>\n",
       "    <tr>\n",
       "      <th>487232</th>\n",
       "      <td>1.0</td>\n",
       "      <td>i firmly believe that governments worldwide sh...</td>\n",
       "    </tr>\n",
       "    <tr>\n",
       "      <th>487233</th>\n",
       "      <td>0.0</td>\n",
       "      <td>i dfnt agree with this decision because a lft ...</td>\n",
       "    </tr>\n",
       "    <tr>\n",
       "      <th>487234</th>\n",
       "      <td>0.0</td>\n",
       "      <td>richard non jimmy carter and bob dole and othe...</td>\n",
       "    </tr>\n",
       "  </tbody>\n",
       "</table>\n",
       "<p>487235 rows × 2 columns</p>\n",
       "</div>"
      ],
      "text/plain": [
       "        label                                       cleaned_text\n",
       "0         0.0  cars cars have been around since they became f...\n",
       "1         0.0  transportation is a large necessity in most co...\n",
       "2         0.0  americas love affair with its vehicles seems t...\n",
       "3         0.0  how often do you ride in a car do you drive a ...\n",
       "4         0.0  cars are a wonderful thing they are perhaps on...\n",
       "...       ...                                                ...\n",
       "487230    0.0  tie face on mars is really just a big misunder...\n",
       "487231    0.0  the whole purpose of democracy is to create a ...\n",
       "487232    1.0  i firmly believe that governments worldwide sh...\n",
       "487233    0.0  i dfnt agree with this decision because a lft ...\n",
       "487234    0.0  richard non jimmy carter and bob dole and othe...\n",
       "\n",
       "[487235 rows x 2 columns]"
      ]
     },
     "execution_count": 12,
     "metadata": {},
     "output_type": "execute_result"
    }
   ],
   "source": [
    "cleaned = pd.read_csv(data_path)\n",
    "cleaned"
   ]
  },
  {
   "cell_type": "code",
   "execution_count": 21,
   "metadata": {},
   "outputs": [],
   "source": [
    "split_path_train = r\"C:\\Users\\talkt\\Documents\\GitHub\\AI-generated-content-detection\\src\\data\\datasets\\train.csv\""
   ]
  },
  {
   "cell_type": "code",
   "execution_count": 22,
   "metadata": {},
   "outputs": [
    {
     "data": {
      "text/html": [
       "<div>\n",
       "<style scoped>\n",
       "    .dataframe tbody tr th:only-of-type {\n",
       "        vertical-align: middle;\n",
       "    }\n",
       "\n",
       "    .dataframe tbody tr th {\n",
       "        vertical-align: top;\n",
       "    }\n",
       "\n",
       "    .dataframe thead th {\n",
       "        text-align: right;\n",
       "    }\n",
       "</style>\n",
       "<table border=\"1\" class=\"dataframe\">\n",
       "  <thead>\n",
       "    <tr style=\"text-align: right;\">\n",
       "      <th></th>\n",
       "      <th>label</th>\n",
       "      <th>cleaned_text</th>\n",
       "    </tr>\n",
       "  </thead>\n",
       "  <tbody>\n",
       "    <tr>\n",
       "      <th>0</th>\n",
       "      <td>0.0</td>\n",
       "      <td>i think that facs is very useful technology th...</td>\n",
       "    </tr>\n",
       "    <tr>\n",
       "      <th>1</th>\n",
       "      <td>0.0</td>\n",
       "      <td>should students create their own summer projec...</td>\n",
       "    </tr>\n",
       "    <tr>\n",
       "      <th>2</th>\n",
       "      <td>1.0</td>\n",
       "      <td>as an average 8thgrade student i have develope...</td>\n",
       "    </tr>\n",
       "    <tr>\n",
       "      <th>3</th>\n",
       "      <td>0.0</td>\n",
       "      <td>holy avocados a new computer software has just...</td>\n",
       "    </tr>\n",
       "    <tr>\n",
       "      <th>4</th>\n",
       "      <td>1.0</td>\n",
       "      <td>title a cowboy who rode the waves once upon a ...</td>\n",
       "    </tr>\n",
       "    <tr>\n",
       "      <th>...</th>\n",
       "      <td>...</td>\n",
       "      <td>...</td>\n",
       "    </tr>\n",
       "    <tr>\n",
       "      <th>389783</th>\n",
       "      <td>1.0</td>\n",
       "      <td>work together to improve peoples lives the imp...</td>\n",
       "    </tr>\n",
       "    <tr>\n",
       "      <th>389784</th>\n",
       "      <td>0.0</td>\n",
       "      <td>the advantages of limiting car usage result in...</td>\n",
       "    </tr>\n",
       "    <tr>\n",
       "      <th>389785</th>\n",
       "      <td>1.0</td>\n",
       "      <td>is it a good idea for students to finish high ...</td>\n",
       "    </tr>\n",
       "    <tr>\n",
       "      <th>389786</th>\n",
       "      <td>0.0</td>\n",
       "      <td>offering distance learning as an option for st...</td>\n",
       "    </tr>\n",
       "    <tr>\n",
       "      <th>389787</th>\n",
       "      <td>1.0</td>\n",
       "      <td>as school budgets are stretched some schools a...</td>\n",
       "    </tr>\n",
       "  </tbody>\n",
       "</table>\n",
       "<p>389788 rows × 2 columns</p>\n",
       "</div>"
      ],
      "text/plain": [
       "        label                                       cleaned_text\n",
       "0         0.0  i think that facs is very useful technology th...\n",
       "1         0.0  should students create their own summer projec...\n",
       "2         1.0  as an average 8thgrade student i have develope...\n",
       "3         0.0  holy avocados a new computer software has just...\n",
       "4         1.0  title a cowboy who rode the waves once upon a ...\n",
       "...       ...                                                ...\n",
       "389783    1.0  work together to improve peoples lives the imp...\n",
       "389784    0.0  the advantages of limiting car usage result in...\n",
       "389785    1.0  is it a good idea for students to finish high ...\n",
       "389786    0.0  offering distance learning as an option for st...\n",
       "389787    1.0  as school budgets are stretched some schools a...\n",
       "\n",
       "[389788 rows x 2 columns]"
      ]
     },
     "execution_count": 22,
     "metadata": {},
     "output_type": "execute_result"
    }
   ],
   "source": [
    "\n",
    "train_data = pd.read_csv(split_path_train)\n",
    "train_data"
   ]
  },
  {
   "cell_type": "code",
   "execution_count": 1,
   "metadata": {},
   "outputs": [
    {
     "name": "stdout",
     "output_type": "stream",
     "text": [
      "CUDA available: True\n"
     ]
    }
   ],
   "source": [
    "import torch\n",
    "print(\"CUDA available:\", torch.cuda.is_available())\n"
   ]
  },
  {
   "cell_type": "code",
   "execution_count": 12,
   "metadata": {},
   "outputs": [
    {
     "name": "stdout",
     "output_type": "stream",
     "text": [
      "Columns: ['label', 'cleaned_text']\n",
      "First row example: i think that facs is very useful technology that could benefit classrooms everywhere it as the article talks about can help students if there getting lost or bored by must adjusting its teaching algorithms to better help the student\n",
      "\n",
      "during everyday life we look at others faces and can most of the time see how they are feeling if your friend has a frown on their face then you can try and use comforting tactics and try to help them in any way and you use these tactics because you know what they are feeling and facs can do the same thing\n",
      "\n",
      "if a student is having trouble in school and there learning style might be different the facs can adapt to that students learning style or mood and help them better than must mindlessly teaching them and not changing anything thats going on\n",
      "\n",
      "facs can be extremely useful in schools all over the world and can make students and their learning environments more flexible and effective which in turn with help a gargantuan amount in them having a successful career because students should come first they are the worlds future and anything we can do to assist them or better their education should be done \n"
     ]
    }
   ],
   "source": [
    "import pandas as pd\n",
    "\n",
    "split_path_train = r\"C:\\Users\\talkt\\Documents\\GitHub\\AI-generated-content-detection\\src\\data\\datasets\\train.csv\"\n",
    "\n",
    "df = pd.read_csv(split_path_train)\n",
    "print(\"Columns:\", df.columns.tolist())\n",
    "print(\"First row example:\", df.iloc[0]['cleaned_text'])"
   ]
  },
  {
   "cell_type": "code",
   "execution_count": 2,
   "metadata": {},
   "outputs": [],
   "source": [
    "split_path_train = r\"C:\\Users\\talkt\\Documents\\GitHub\\AI-generated-content-detection\\src\\data\\datasets\\train.csv\"\n",
    "split_path_test = r\"C:\\Users\\talkt\\Documents\\GitHub\\AI-generated-content-detection\\src\\data\\datasets\\test.csv\"\n",
    "split_path_val = r\"C:\\Users\\talkt\\Documents\\GitHub\\AI-generated-content-detection\\src\\data\\datasets\\val.csv\""
   ]
  },
  {
   "cell_type": "code",
   "execution_count": 25,
   "metadata": {},
   "outputs": [
    {
     "name": "stdout",
     "output_type": "stream",
     "text": [
      "Columns: ['label', 'cleaned_text']\n",
      "First row example: dear principle o think that students should be required to perform community service because if we can make a change in the world we should do it or at least try because if one person makes a change so will others like for example littering people dont realize they are destroying the nature by throwing garbage all over and it doesnt look good if you are trying to enjoy yourself in a park with garbage all over so we should try to pick up trash all over and serve our community and make the world a better looking place community service doesnt always have to be bearing or a waste of time because it could also be fun like you can shovel snow or babysit u can just take a time when you are not doing anything and go out and better the world although u may not realize but by helping the community you are making yourself look good and also your community you make people feel better about where they live and u can also put smiles on peoples faces and it will make u feel proud although community service is free you do it to better your community and everything you do will help you in the long run whether it makes u a better person or whether it helps you achieve great standards this is why students should have to do community service because it will help us achieve and the world to succeed this is our world and lets make it a better one for our futures generation we can all make a change\n"
     ]
    }
   ],
   "source": [
    "df = pd.read_csv(split_path_val)\n",
    "print(\"Columns:\", df.columns.tolist())\n",
    "print(\"First row example:\", df.iloc[0]['cleaned_text'])"
   ]
  },
  {
   "cell_type": "code",
   "execution_count": 3,
   "metadata": {},
   "outputs": [
    {
     "name": "stdout",
     "output_type": "stream",
     "text": [
      "label\n",
      "0.0    30504\n",
      "1.0    18220\n",
      "Name: count, dtype: int64\n"
     ]
    }
   ],
   "source": [
    "import pandas as pd\n",
    "df_test = pd.read_csv(split_path_test)\n",
    "print(df_test['label'].value_counts())"
   ]
  }
 ],
 "metadata": {
  "kernelspec": {
   "display_name": "Python 3",
   "language": "python",
   "name": "python3"
  },
  "language_info": {
   "codemirror_mode": {
    "name": "ipython",
    "version": 3
   },
   "file_extension": ".py",
   "mimetype": "text/x-python",
   "name": "python",
   "nbconvert_exporter": "python",
   "pygments_lexer": "ipython3",
   "version": "3.11.8"
  }
 },
 "nbformat": 4,
 "nbformat_minor": 2
}
